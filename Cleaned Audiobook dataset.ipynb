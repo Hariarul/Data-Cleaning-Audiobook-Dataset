{
 "cells": [
  {
   "cell_type": "markdown",
   "id": "427a4082-8bc3-4b09-b000-ea1d87ba50b6",
   "metadata": {},
   "source": [
    "# Data Cleaning Documentation: Audiobook Dataset"
   ]
  },
  {
   "cell_type": "markdown",
   "id": "55bed8d8-2456-4d76-9b34-342ac1ed45f8",
   "metadata": {},
   "source": [
    "## Introduction\n",
    "#### Overview of the Dataset\n",
    "\n",
    "This dataset contains audiobook details, including attributes like the book's name, author, narrator, duration, release date, language, user ratings (stars), and price. The dataset is intended for analysis and machine learning applications, such as recommendation systems or price prediction models.\n",
    "\n",
    "#### Purpose of Data Cleaning\n",
    "\n",
    "Raw datasets often contain inconsistencies, missing values, and formatting errors that can affect analysis and model performance. This dataset requires data cleaning and preprocessing to ensure accuracy, consistency, and usability.\n",
    "\n",
    "## Identified Issues\n",
    "\n",
    "The dataset contains several inconsistencies that need to be addressed:\n",
    "\n",
    "#### Incorrect Data Types\n",
    "\n",
    "Dates and prices are stored as strings (objects) instead of datetime and float, respectively.\n",
    "Stars (ratings) are numerical but stored as objects due to formatting issues.\n",
    "\n",
    "#### String Contamination\n",
    "\n",
    "The author and narrator columns include extra text such as \"Written by\" or \"Narrated by\", instead of just the names.\n",
    "\n",
    "#### Mixed Format in Time Column\n",
    "\n",
    "The time column includes both numbers and words (e.g., \"10 hours 30 minutes\" instead of a standard numeric format).\n"
   ]
  },
  {
   "cell_type": "code",
   "execution_count": 422,
   "id": "5e4a12e2-c47b-4732-96e3-18d2ee9caa76",
   "metadata": {},
   "outputs": [],
   "source": [
    "#Importing the necessary libraries\n",
    "import numpy as np\n",
    "import pandas as pd\n",
    "import matplotlib.pyplot as plt\n",
    "import seaborn as sns"
   ]
  },
  {
   "cell_type": "code",
   "execution_count": 423,
   "id": "996f04c0-1395-47d5-a92e-9b28d4444ef6",
   "metadata": {},
   "outputs": [],
   "source": [
    "#Loading the dataset in the required format\n",
    "df = pd.read_csv(r\"D:\\Data cleaning projects\\archive (9)\\audible_uncleaned.csv\")"
   ]
  },
  {
   "cell_type": "code",
   "execution_count": 424,
   "id": "5dfc28bd-0dad-471b-b9b9-3b50c2c904e6",
   "metadata": {},
   "outputs": [
    {
     "data": {
      "text/html": [
       "<div>\n",
       "<style scoped>\n",
       "    .dataframe tbody tr th:only-of-type {\n",
       "        vertical-align: middle;\n",
       "    }\n",
       "\n",
       "    .dataframe tbody tr th {\n",
       "        vertical-align: top;\n",
       "    }\n",
       "\n",
       "    .dataframe thead th {\n",
       "        text-align: right;\n",
       "    }\n",
       "</style>\n",
       "<table border=\"1\" class=\"dataframe\">\n",
       "  <thead>\n",
       "    <tr style=\"text-align: right;\">\n",
       "      <th></th>\n",
       "      <th>name</th>\n",
       "      <th>author</th>\n",
       "      <th>narrator</th>\n",
       "      <th>time</th>\n",
       "      <th>releasedate</th>\n",
       "      <th>language</th>\n",
       "      <th>stars</th>\n",
       "      <th>price</th>\n",
       "    </tr>\n",
       "  </thead>\n",
       "  <tbody>\n",
       "    <tr>\n",
       "      <th>0</th>\n",
       "      <td>Geronimo Stilton #11 &amp; #12</td>\n",
       "      <td>Writtenby:GeronimoStilton</td>\n",
       "      <td>Narratedby:BillLobely</td>\n",
       "      <td>2 hrs and 20 mins</td>\n",
       "      <td>04-08-08</td>\n",
       "      <td>English</td>\n",
       "      <td>5 out of 5 stars34 ratings</td>\n",
       "      <td>468.00</td>\n",
       "    </tr>\n",
       "    <tr>\n",
       "      <th>1</th>\n",
       "      <td>The Burning Maze</td>\n",
       "      <td>Writtenby:RickRiordan</td>\n",
       "      <td>Narratedby:RobbieDaymond</td>\n",
       "      <td>13 hrs and 8 mins</td>\n",
       "      <td>01-05-18</td>\n",
       "      <td>English</td>\n",
       "      <td>4.5 out of 5 stars41 ratings</td>\n",
       "      <td>820.00</td>\n",
       "    </tr>\n",
       "    <tr>\n",
       "      <th>2</th>\n",
       "      <td>The Deep End</td>\n",
       "      <td>Writtenby:JeffKinney</td>\n",
       "      <td>Narratedby:DanRussell</td>\n",
       "      <td>2 hrs and 3 mins</td>\n",
       "      <td>06-11-20</td>\n",
       "      <td>English</td>\n",
       "      <td>4.5 out of 5 stars38 ratings</td>\n",
       "      <td>410.00</td>\n",
       "    </tr>\n",
       "    <tr>\n",
       "      <th>3</th>\n",
       "      <td>Daughter of the Deep</td>\n",
       "      <td>Writtenby:RickRiordan</td>\n",
       "      <td>Narratedby:SoneelaNankani</td>\n",
       "      <td>11 hrs and 16 mins</td>\n",
       "      <td>05-10-21</td>\n",
       "      <td>English</td>\n",
       "      <td>4.5 out of 5 stars12 ratings</td>\n",
       "      <td>615.00</td>\n",
       "    </tr>\n",
       "    <tr>\n",
       "      <th>4</th>\n",
       "      <td>The Lightning Thief: Percy Jackson, Book 1</td>\n",
       "      <td>Writtenby:RickRiordan</td>\n",
       "      <td>Narratedby:JesseBernstein</td>\n",
       "      <td>10 hrs</td>\n",
       "      <td>13-01-10</td>\n",
       "      <td>English</td>\n",
       "      <td>4.5 out of 5 stars181 ratings</td>\n",
       "      <td>820.00</td>\n",
       "    </tr>\n",
       "  </tbody>\n",
       "</table>\n",
       "</div>"
      ],
      "text/plain": [
       "                                         name                     author  \\\n",
       "0                  Geronimo Stilton #11 & #12  Writtenby:GeronimoStilton   \n",
       "1                            The Burning Maze      Writtenby:RickRiordan   \n",
       "2                                The Deep End       Writtenby:JeffKinney   \n",
       "3                        Daughter of the Deep      Writtenby:RickRiordan   \n",
       "4  The Lightning Thief: Percy Jackson, Book 1      Writtenby:RickRiordan   \n",
       "\n",
       "                    narrator                time releasedate language  \\\n",
       "0      Narratedby:BillLobely   2 hrs and 20 mins    04-08-08  English   \n",
       "1   Narratedby:RobbieDaymond   13 hrs and 8 mins    01-05-18  English   \n",
       "2      Narratedby:DanRussell    2 hrs and 3 mins    06-11-20  English   \n",
       "3  Narratedby:SoneelaNankani  11 hrs and 16 mins    05-10-21  English   \n",
       "4  Narratedby:JesseBernstein              10 hrs    13-01-10  English   \n",
       "\n",
       "                           stars   price  \n",
       "0     5 out of 5 stars34 ratings  468.00  \n",
       "1   4.5 out of 5 stars41 ratings  820.00  \n",
       "2   4.5 out of 5 stars38 ratings  410.00  \n",
       "3   4.5 out of 5 stars12 ratings  615.00  \n",
       "4  4.5 out of 5 stars181 ratings  820.00  "
      ]
     },
     "execution_count": 424,
     "metadata": {},
     "output_type": "execute_result"
    }
   ],
   "source": [
    "df.head()"
   ]
  },
  {
   "cell_type": "code",
   "execution_count": 425,
   "id": "1c121f0a-c441-4df2-8b65-8924cc2f21a7",
   "metadata": {},
   "outputs": [
    {
     "data": {
      "text/plain": [
       "Index(['name', 'author', 'narrator', 'time', 'releasedate', 'language',\n",
       "       'stars', 'price'],\n",
       "      dtype='object')"
      ]
     },
     "execution_count": 425,
     "metadata": {},
     "output_type": "execute_result"
    }
   ],
   "source": [
    "df.columns"
   ]
  },
  {
   "cell_type": "code",
   "execution_count": 426,
   "id": "80b9ee42-85cf-440a-a1f6-90f5f2b72098",
   "metadata": {},
   "outputs": [
    {
     "data": {
      "text/plain": [
       "(87489, 8)"
      ]
     },
     "execution_count": 426,
     "metadata": {},
     "output_type": "execute_result"
    }
   ],
   "source": [
    "df.shape"
   ]
  },
  {
   "cell_type": "code",
   "execution_count": 427,
   "id": "cabdc212-472d-4278-947a-a2cecba9a712",
   "metadata": {},
   "outputs": [
    {
     "data": {
      "text/plain": [
       "name           0\n",
       "author         0\n",
       "narrator       0\n",
       "time           0\n",
       "releasedate    0\n",
       "language       0\n",
       "stars          0\n",
       "price          0\n",
       "dtype: int64"
      ]
     },
     "execution_count": 427,
     "metadata": {},
     "output_type": "execute_result"
    }
   ],
   "source": [
    "#Checking the dataset for the count of null values in each column\n",
    "df.isnull().sum()"
   ]
  },
  {
   "cell_type": "code",
   "execution_count": 428,
   "id": "14fde547-61ce-4c19-91b6-188c3d30323a",
   "metadata": {},
   "outputs": [
    {
     "name": "stdout",
     "output_type": "stream",
     "text": [
      "<class 'pandas.core.frame.DataFrame'>\n",
      "RangeIndex: 87489 entries, 0 to 87488\n",
      "Data columns (total 8 columns):\n",
      " #   Column       Non-Null Count  Dtype \n",
      "---  ------       --------------  ----- \n",
      " 0   name         87489 non-null  object\n",
      " 1   author       87489 non-null  object\n",
      " 2   narrator     87489 non-null  object\n",
      " 3   time         87489 non-null  object\n",
      " 4   releasedate  87489 non-null  object\n",
      " 5   language     87489 non-null  object\n",
      " 6   stars        87489 non-null  object\n",
      " 7   price        87489 non-null  object\n",
      "dtypes: object(8)\n",
      "memory usage: 5.3+ MB\n"
     ]
    }
   ],
   "source": [
    "#Checking the data types of each column to understand their formatting\n",
    "df.info()"
   ]
  },
  {
   "cell_type": "markdown",
   "id": "3a91a18e-fc4a-4d12-a5be-274da9a22434",
   "metadata": {},
   "source": [
    "#### For better understanding, we will clean the dataset column by column from left to right in an orderly manner"
   ]
  },
  {
   "cell_type": "code",
   "execution_count": 429,
   "id": "db1d7dde-cb70-4ee9-9748-81f3193c28ff",
   "metadata": {},
   "outputs": [
    {
     "data": {
      "text/plain": [
       "0                        Geronimo Stilton #11 & #12\n",
       "1                                  The Burning Maze\n",
       "2                                      The Deep End\n",
       "3                              Daughter of the Deep\n",
       "4        The Lightning Thief: Percy Jackson, Book 1\n",
       "                            ...                    \n",
       "87484                     Last Days of the Bus Club\n",
       "87485                                      The Alps\n",
       "87486                          The Innocents Abroad\n",
       "87487                         A Sentimental Journey\n",
       "87488                                        Havana\n",
       "Name: name, Length: 87489, dtype: object"
      ]
     },
     "execution_count": 429,
     "metadata": {},
     "output_type": "execute_result"
    }
   ],
   "source": [
    "df['name']"
   ]
  },
  {
   "cell_type": "code",
   "execution_count": 430,
   "id": "f1edafed-2d07-48d4-9d0b-3ee8c9f8a503",
   "metadata": {},
   "outputs": [],
   "source": [
    "#Stripping extra spaces and converting names to title case for consistency\n",
    "df['name'] = df['name'].str.strip().str.title()"
   ]
  },
  {
   "cell_type": "code",
   "execution_count": 431,
   "id": "89308b74-980f-4f47-ae96-c37d4d3d4501",
   "metadata": {},
   "outputs": [
    {
     "data": {
      "text/plain": [
       "0        Writtenby:GeronimoStilton\n",
       "1            Writtenby:RickRiordan\n",
       "2             Writtenby:JeffKinney\n",
       "3            Writtenby:RickRiordan\n",
       "4            Writtenby:RickRiordan\n",
       "                   ...            \n",
       "87484       Writtenby:ChrisStewart\n",
       "87485      Writtenby:StephenO'Shea\n",
       "87486          Writtenby:MarkTwain\n",
       "87487     Writtenby:LaurenceSterne\n",
       "87488      Writtenby:MarkKurlansky\n",
       "Name: author, Length: 87489, dtype: object"
      ]
     },
     "execution_count": 431,
     "metadata": {},
     "output_type": "execute_result"
    }
   ],
   "source": [
    "df['author']"
   ]
  },
  {
   "cell_type": "code",
   "execution_count": 432,
   "id": "cc398985-9bfa-4595-b61c-6d57d6ccdb38",
   "metadata": {},
   "outputs": [],
   "source": [
    "df['author'] = df['author'].str.replace(r'Writtenby:', '', regex=True)"
   ]
  },
  {
   "cell_type": "code",
   "execution_count": 433,
   "id": "0f2fe937-5e1d-4629-b809-f5db27adf107",
   "metadata": {},
   "outputs": [
    {
     "data": {
      "text/plain": [
       "0        GeronimoStilton\n",
       "1            RickRiordan\n",
       "2             JeffKinney\n",
       "3            RickRiordan\n",
       "4            RickRiordan\n",
       "              ...       \n",
       "87484       ChrisStewart\n",
       "87485      StephenO'Shea\n",
       "87486          MarkTwain\n",
       "87487     LaurenceSterne\n",
       "87488      MarkKurlansky\n",
       "Name: author, Length: 87489, dtype: object"
      ]
     },
     "execution_count": 433,
     "metadata": {},
     "output_type": "execute_result"
    }
   ],
   "source": [
    "df['author']"
   ]
  },
  {
   "cell_type": "code",
   "execution_count": 434,
   "id": "891b0f79-f697-4e25-b270-f0537f4c31e4",
   "metadata": {},
   "outputs": [
    {
     "data": {
      "text/plain": [
       "0            Narratedby:BillLobely\n",
       "1         Narratedby:RobbieDaymond\n",
       "2            Narratedby:DanRussell\n",
       "3        Narratedby:SoneelaNankani\n",
       "4        Narratedby:JesseBernstein\n",
       "                   ...            \n",
       "87484      Narratedby:ChrisStewart\n",
       "87485        Narratedby:RobertFass\n",
       "87486         Narratedby:FloGibson\n",
       "87487       Narratedby:AntonLesser\n",
       "87488       Narratedby:FleetCooper\n",
       "Name: narrator, Length: 87489, dtype: object"
      ]
     },
     "execution_count": 434,
     "metadata": {},
     "output_type": "execute_result"
    }
   ],
   "source": [
    "df['narrator']"
   ]
  },
  {
   "cell_type": "code",
   "execution_count": 435,
   "id": "cf9e0693-5309-4af1-bb9e-e5ebae0dece0",
   "metadata": {},
   "outputs": [],
   "source": [
    "df['narrator'] = df['narrator'].str.replace(r'Narratedby:', '', regex=True)"
   ]
  },
  {
   "cell_type": "code",
   "execution_count": 436,
   "id": "d25bbacd-22b6-467c-a955-f4ca8fead3bd",
   "metadata": {},
   "outputs": [
    {
     "data": {
      "text/plain": [
       "0            BillLobely\n",
       "1         RobbieDaymond\n",
       "2            DanRussell\n",
       "3        SoneelaNankani\n",
       "4        JesseBernstein\n",
       "              ...      \n",
       "87484      ChrisStewart\n",
       "87485        RobertFass\n",
       "87486         FloGibson\n",
       "87487       AntonLesser\n",
       "87488       FleetCooper\n",
       "Name: narrator, Length: 87489, dtype: object"
      ]
     },
     "execution_count": 436,
     "metadata": {},
     "output_type": "execute_result"
    }
   ],
   "source": [
    "df['narrator']"
   ]
  },
  {
   "cell_type": "code",
   "execution_count": 437,
   "id": "26f87efb-48b8-426f-806c-a1107367d065",
   "metadata": {},
   "outputs": [
    {
     "data": {
      "text/plain": [
       "0         2 hrs and 20 mins\n",
       "1         13 hrs and 8 mins\n",
       "2          2 hrs and 3 mins\n",
       "3        11 hrs and 16 mins\n",
       "4                    10 hrs\n",
       "                ...        \n",
       "87484     7 hrs and 34 mins\n",
       "87485     10 hrs and 7 mins\n",
       "87486     19 hrs and 4 mins\n",
       "87487      4 hrs and 8 mins\n",
       "87488       6 hrs and 1 min\n",
       "Name: time, Length: 87489, dtype: object"
      ]
     },
     "execution_count": 437,
     "metadata": {},
     "output_type": "execute_result"
    }
   ],
   "source": [
    "df['time']"
   ]
  },
  {
   "cell_type": "code",
   "execution_count": 438,
   "id": "e758df0f-e318-45d7-b822-e1f8dca0f080",
   "metadata": {},
   "outputs": [],
   "source": [
    "df['hours'] = df['time'].str.extract(r'(\\d+) hrs')[0].astype(float).fillna(0)\n",
    "df['minutes'] = df['time'].str.extract(r'(\\d+) mins')[0].astype(float).fillna(0)"
   ]
  },
  {
   "cell_type": "code",
   "execution_count": 439,
   "id": "737ebcd8-6fca-43a5-b95d-255a0f3a09a9",
   "metadata": {},
   "outputs": [],
   "source": [
    "df['total_minutes'] = (df['hours'] * 60) + df['minutes']"
   ]
  },
  {
   "cell_type": "code",
   "execution_count": 440,
   "id": "daa436e4-6450-43ca-99bc-8177ffc06ca0",
   "metadata": {},
   "outputs": [
    {
     "name": "stdout",
     "output_type": "stream",
     "text": [
      "                     time  total_minutes\n",
      "0       2 hrs and 20 mins          140.0\n",
      "1       13 hrs and 8 mins          788.0\n",
      "2        2 hrs and 3 mins          123.0\n",
      "3      11 hrs and 16 mins          676.0\n",
      "4                  10 hrs          600.0\n",
      "...                   ...            ...\n",
      "87484   7 hrs and 34 mins          454.0\n",
      "87485   10 hrs and 7 mins          607.0\n",
      "87486   19 hrs and 4 mins         1144.0\n",
      "87487    4 hrs and 8 mins          248.0\n",
      "87488     6 hrs and 1 min          360.0\n",
      "\n",
      "[87489 rows x 2 columns]\n"
     ]
    }
   ],
   "source": [
    "print(df[['time', 'total_minutes']])"
   ]
  },
  {
   "cell_type": "code",
   "execution_count": 441,
   "id": "c60b50fe-02a8-4bb3-a1fb-3021ce5e5522",
   "metadata": {},
   "outputs": [
    {
     "name": "stdout",
     "output_type": "stream",
     "text": [
      "stars\n",
      "Not rated yet                    72417\n",
      "5 out of 5 stars1 rating          3739\n",
      "4 out of 5 stars1 rating          1254\n",
      "5 out of 5 stars2 ratings          998\n",
      "4.5 out of 5 stars2 ratings        661\n",
      "                                 ...  \n",
      "3.5 out of 5 stars61 ratings         1\n",
      "5 out of 5 stars321 ratings          1\n",
      "5 out of 5 stars93 ratings           1\n",
      "4.5 out of 5 stars747 ratings        1\n",
      "4 out of 5 stars76 ratings           1\n",
      "Name: count, Length: 665, dtype: int64\n"
     ]
    }
   ],
   "source": [
    "print(df['stars'].value_counts())"
   ]
  },
  {
   "cell_type": "code",
   "execution_count": 442,
   "id": "f671ba73-8e4b-438c-ad65-75532347cc26",
   "metadata": {},
   "outputs": [
    {
     "data": {
      "text/plain": [
       "dtype('O')"
      ]
     },
     "execution_count": 442,
     "metadata": {},
     "output_type": "execute_result"
    }
   ],
   "source": [
    "df['releasedate'].dtype"
   ]
  },
  {
   "cell_type": "code",
   "execution_count": 443,
   "id": "79074671-54e4-4702-90c6-5fb3f41740a2",
   "metadata": {},
   "outputs": [
    {
     "name": "stderr",
     "output_type": "stream",
     "text": [
      "C:\\Users\\user\\AppData\\Local\\Temp\\ipykernel_1880\\3768910821.py:2: UserWarning: Could not infer format, so each element will be parsed individually, falling back to `dateutil`. To ensure parsing is consistent and as-expected, please specify a format.\n",
      "  df['releasedate'] = pd.to_datetime(df['releasedate'])\n"
     ]
    }
   ],
   "source": [
    "from datetime import datetime\n",
    "df['releasedate'] = pd.to_datetime(df['releasedate'])"
   ]
  },
  {
   "cell_type": "code",
   "execution_count": 444,
   "id": "64a69cfb-3635-4a1c-a18d-1140cb5c1594",
   "metadata": {},
   "outputs": [
    {
     "name": "stdout",
     "output_type": "stream",
     "text": [
      "<class 'pandas.core.frame.DataFrame'>\n",
      "RangeIndex: 87489 entries, 0 to 87488\n",
      "Data columns (total 11 columns):\n",
      " #   Column         Non-Null Count  Dtype         \n",
      "---  ------         --------------  -----         \n",
      " 0   name           87489 non-null  object        \n",
      " 1   author         87489 non-null  object        \n",
      " 2   narrator       87489 non-null  object        \n",
      " 3   time           87489 non-null  object        \n",
      " 4   releasedate    87489 non-null  datetime64[ns]\n",
      " 5   language       87489 non-null  object        \n",
      " 6   stars          87489 non-null  object        \n",
      " 7   price          87489 non-null  object        \n",
      " 8   hours          87489 non-null  float64       \n",
      " 9   minutes        87489 non-null  float64       \n",
      " 10  total_minutes  87489 non-null  float64       \n",
      "dtypes: datetime64[ns](1), float64(3), object(7)\n",
      "memory usage: 7.3+ MB\n"
     ]
    }
   ],
   "source": [
    "#The'releasedate'column has now been formatted to datetime\n",
    "df.info()"
   ]
  },
  {
   "cell_type": "code",
   "execution_count": 445,
   "id": "051cf266-cbd8-4876-9092-96a4f96cbe49",
   "metadata": {},
   "outputs": [
    {
     "data": {
      "text/plain": [
       "language\n",
       "English             61884\n",
       "german               8295\n",
       "spanish              3496\n",
       "japanese             3167\n",
       "italian              2694\n",
       "french               2386\n",
       "russian              1804\n",
       "danish                935\n",
       "portuguese            526\n",
       "swedish               515\n",
       "Hindi                 436\n",
       "polish                224\n",
       "finnish               197\n",
       "dutch                 190\n",
       "tamil                 161\n",
       "catalan               153\n",
       "mandarin_chinese       97\n",
       "icelandic              52\n",
       "romanian               50\n",
       "hungarian              36\n",
       "urdu                   34\n",
       "afrikaans              28\n",
       "czech                  23\n",
       "turkish                20\n",
       "greek                  18\n",
       "arabic                 16\n",
       "norwegian              16\n",
       "galician               10\n",
       "bulgarian               9\n",
       "korean                  4\n",
       "slovene                 4\n",
       "hebrew                  2\n",
       "basque                  2\n",
       "telugu                  2\n",
       "lithuanian              2\n",
       "ukrainian               1\n",
       "Name: count, dtype: int64"
      ]
     },
     "execution_count": 445,
     "metadata": {},
     "output_type": "execute_result"
    }
   ],
   "source": [
    "df['language'].value_counts()"
   ]
  },
  {
   "cell_type": "code",
   "execution_count": 446,
   "id": "940af229-f4a6-42b7-b6ee-1ffee8215427",
   "metadata": {},
   "outputs": [],
   "source": [
    "# Removing unnecessary spaces and converting language names to lowercase for consistency\n",
    "df['language'] = df['language'].str.strip().str.lower()"
   ]
  },
  {
   "cell_type": "code",
   "execution_count": 447,
   "id": "28cbc64e-f923-47b2-a8e2-1c757141337e",
   "metadata": {},
   "outputs": [
    {
     "data": {
      "text/plain": [
       "language\n",
       "english             61884\n",
       "german               8295\n",
       "spanish              3496\n",
       "japanese             3167\n",
       "italian              2694\n",
       "french               2386\n",
       "russian              1804\n",
       "danish                935\n",
       "portuguese            526\n",
       "swedish               515\n",
       "hindi                 436\n",
       "polish                224\n",
       "finnish               197\n",
       "dutch                 190\n",
       "tamil                 161\n",
       "catalan               153\n",
       "mandarin_chinese       97\n",
       "icelandic              52\n",
       "romanian               50\n",
       "hungarian              36\n",
       "urdu                   34\n",
       "afrikaans              28\n",
       "czech                  23\n",
       "turkish                20\n",
       "greek                  18\n",
       "arabic                 16\n",
       "norwegian              16\n",
       "galician               10\n",
       "bulgarian               9\n",
       "korean                  4\n",
       "slovene                 4\n",
       "hebrew                  2\n",
       "basque                  2\n",
       "telugu                  2\n",
       "lithuanian              2\n",
       "ukrainian               1\n",
       "Name: count, dtype: int64"
      ]
     },
     "execution_count": 447,
     "metadata": {},
     "output_type": "execute_result"
    }
   ],
   "source": [
    "df['language'].value_counts()"
   ]
  },
  {
   "cell_type": "code",
   "execution_count": 448,
   "id": "27fbdfea-2b9c-4a1a-b8cb-3100d4e05ed7",
   "metadata": {},
   "outputs": [
    {
     "name": "stdout",
     "output_type": "stream",
     "text": [
      "stars\n",
      "Not rated yet                      72417\n",
      "5 out of 5 stars1 rating            3739\n",
      "4 out of 5 stars1 rating            1254\n",
      "5 out of 5 stars2 ratings            998\n",
      "4.5 out of 5 stars2 ratings          661\n",
      "4.5 out of 5 stars3 ratings          543\n",
      "3 out of 5 stars1 rating             510\n",
      "5 out of 5 stars4 ratings            407\n",
      "5 out of 5 stars3 ratings            389\n",
      "4 out of 5 stars2 ratings            328\n",
      "4 out of 5 stars4 ratings            224\n",
      "5 out of 5 stars5 ratings            207\n",
      "4.5 out of 5 stars6 ratings          193\n",
      "4.5 out of 5 stars7 ratings          175\n",
      "4.5 out of 5 stars4 ratings          171\n",
      "1 out of 5 stars1 rating             164\n",
      "4.5 out of 5 stars5 ratings          158\n",
      "2 out of 5 stars1 rating             155\n",
      "5 out of 5 stars6 ratings            148\n",
      "3.5 out of 5 stars2 ratings          146\n",
      "4 out of 5 stars5 ratings            129\n",
      "3 out of 5 stars2 ratings            122\n",
      "4 out of 5 stars3 ratings            119\n",
      "3.5 out of 5 stars3 ratings          109\n",
      "4.5 out of 5 stars10 ratings         109\n",
      "4.5 out of 5 stars9 ratings          107\n",
      "5 out of 5 stars7 ratings            106\n",
      "4.5 out of 5 stars8 ratings          101\n",
      "4.5 out of 5 stars14 ratings          92\n",
      "4.5 out of 5 stars11 ratings          90\n",
      "5 out of 5 stars8 ratings             89\n",
      "4.5 out of 5 stars15 ratings          85\n",
      "5 out of 5 stars9 ratings             80\n",
      "4.5 out of 5 stars13 ratings          76\n",
      "4.5 out of 5 stars12 ratings          75\n",
      "4 out of 5 stars6 ratings             68\n",
      "4 out of 5 stars8 ratings             65\n",
      "4 out of 5 stars9 ratings             56\n",
      "4 out of 5 stars7 ratings             56\n",
      "5 out of 5 stars10 ratings            55\n",
      "4.5 out of 5 stars23 ratings          43\n",
      "4.5 out of 5 stars21 ratings          43\n",
      "5 out of 5 stars12 ratings            42\n",
      "5 out of 5 stars11 ratings            41\n",
      "4.5 out of 5 stars16 ratings          41\n",
      "4.5 out of 5 stars20 ratings          39\n",
      "4.5 out of 5 stars17 ratings          37\n",
      "4 out of 5 stars12 ratings            36\n",
      "4.5 out of 5 stars25 ratings          35\n",
      "4.5 out of 5 stars19 ratings          34\n",
      "3 out of 5 stars4 ratings             32\n",
      "4.5 out of 5 stars24 ratings          31\n",
      "4.5 out of 5 stars26 ratings          31\n",
      "4.5 out of 5 stars28 ratings          30\n",
      "4.5 out of 5 stars18 ratings          30\n",
      "5 out of 5 stars13 ratings            30\n",
      "5 out of 5 stars14 ratings            29\n",
      "2.5 out of 5 stars2 ratings           28\n",
      "3.5 out of 5 stars5 ratings           28\n",
      "4.5 out of 5 stars33 ratings          28\n",
      "4.5 out of 5 stars29 ratings          26\n",
      "4.5 out of 5 stars31 ratings          26\n",
      "3.5 out of 5 stars6 ratings           24\n",
      "3 out of 5 stars3 ratings             23\n",
      "4 out of 5 stars13 ratings            23\n",
      "4 out of 5 stars10 ratings            23\n",
      "4 out of 5 stars14 ratings            23\n",
      "3.5 out of 5 stars4 ratings           22\n",
      "4.5 out of 5 stars22 ratings          21\n",
      "4.5 out of 5 stars37 ratings          21\n",
      "5 out of 5 stars20 ratings            21\n",
      "4 out of 5 stars11 ratings            21\n",
      "4 out of 5 stars16 ratings            20\n",
      "4 out of 5 stars18 ratings            20\n",
      "5 out of 5 stars17 ratings            20\n",
      "4.5 out of 5 stars30 ratings          20\n",
      "4.5 out of 5 stars34 ratings          19\n",
      "4.5 out of 5 stars27 ratings          19\n",
      "4.5 out of 5 stars36 ratings          19\n",
      "5 out of 5 stars18 ratings            18\n",
      "4.5 out of 5 stars40 ratings          18\n",
      "4 out of 5 stars20 ratings            18\n",
      "4.5 out of 5 stars32 ratings          17\n",
      "2 out of 5 stars2 ratings             17\n",
      "3.5 out of 5 stars7 ratings           17\n",
      "5 out of 5 stars15 ratings            17\n",
      "4 out of 5 stars17 ratings            16\n",
      "4 out of 5 stars15 ratings            16\n",
      "2.5 out of 5 stars3 ratings           16\n",
      "4.5 out of 5 stars41 ratings          16\n",
      "4.5 out of 5 stars47 ratings          16\n",
      "4.5 out of 5 stars38 ratings          16\n",
      "5 out of 5 stars16 ratings            16\n",
      "4.5 out of 5 stars39 ratings          15\n",
      "4.5 out of 5 stars43 ratings          15\n",
      "4.5 out of 5 stars35 ratings          14\n",
      "4.5 out of 5 stars49 ratings          14\n",
      "5 out of 5 stars21 ratings            14\n",
      "4 out of 5 stars21 ratings            14\n",
      "4.5 out of 5 stars57 ratings          13\n",
      "4 out of 5 stars22 ratings            12\n",
      "4.5 out of 5 stars51 ratings          12\n",
      "4.5 out of 5 stars59 ratings          12\n",
      "4.5 out of 5 stars42 ratings          12\n",
      "4.5 out of 5 stars46 ratings          11\n",
      "4.5 out of 5 stars52 ratings          11\n",
      "4.5 out of 5 stars63 ratings          10\n",
      "5 out of 5 stars19 ratings            10\n",
      "3 out of 5 stars5 ratings             10\n",
      "4.5 out of 5 stars65 ratings          10\n",
      "4 out of 5 stars19 ratings            10\n",
      "5 out of 5 stars24 ratings            10\n",
      "5 out of 5 stars22 ratings            10\n",
      "4.5 out of 5 stars60 ratings          10\n",
      "4.5 out of 5 stars62 ratings           9\n",
      "4.5 out of 5 stars44 ratings           9\n",
      "4 out of 5 stars29 ratings             9\n",
      "4.5 out of 5 stars58 ratings           9\n",
      "3.5 out of 5 stars11 ratings           9\n",
      "1 out of 5 stars2 ratings              9\n",
      "5 out of 5 stars33 ratings             8\n",
      "4.5 out of 5 stars70 ratings           8\n",
      "5 out of 5 stars32 ratings             8\n",
      "4 out of 5 stars28 ratings             8\n",
      "4.5 out of 5 stars48 ratings           8\n",
      "4.5 out of 5 stars53 ratings           8\n",
      "3.5 out of 5 stars9 ratings            8\n",
      "4.5 out of 5 stars56 ratings           7\n",
      "4.5 out of 5 stars55 ratings           7\n",
      "4 out of 5 stars24 ratings             7\n",
      "4.5 out of 5 stars83 ratings           7\n",
      "4 out of 5 stars30 ratings             7\n",
      "4.5 out of 5 stars77 ratings           7\n",
      "3.5 out of 5 stars8 ratings            7\n",
      "4.5 out of 5 stars73 ratings           7\n",
      "4 out of 5 stars32 ratings             7\n",
      "4.5 out of 5 stars88 ratings           7\n",
      "4.5 out of 5 stars68 ratings           7\n",
      "4.5 out of 5 stars50 ratings           7\n",
      "5 out of 5 stars37 ratings             7\n",
      "5 out of 5 stars26 ratings             7\n",
      "5 out of 5 stars25 ratings             7\n",
      "4.5 out of 5 stars75 ratings           7\n",
      "5 out of 5 stars56 ratings             7\n",
      "4 out of 5 stars23 ratings             6\n",
      "4.5 out of 5 stars69 ratings           6\n",
      "4.5 out of 5 stars86 ratings           6\n",
      "5 out of 5 stars36 ratings             6\n",
      "4 out of 5 stars25 ratings             6\n",
      "5 out of 5 stars42 ratings             6\n",
      "1.5 out of 5 stars2 ratings            6\n",
      "4 out of 5 stars33 ratings             6\n",
      "4.5 out of 5 stars74 ratings           6\n",
      "5 out of 5 stars31 ratings             6\n",
      "5 out of 5 stars27 ratings             6\n",
      "4.5 out of 5 stars54 ratings           6\n",
      "4.5 out of 5 stars111 ratings          6\n",
      "5 out of 5 stars23 ratings             6\n",
      "4.5 out of 5 stars45 ratings           5\n",
      "4.5 out of 5 stars99 ratings           5\n",
      "4.5 out of 5 stars104 ratings          5\n",
      "4.5 out of 5 stars106 ratings          5\n",
      "4 out of 5 stars27 ratings             5\n",
      "4.5 out of 5 stars107 ratings          5\n",
      "4.5 out of 5 stars71 ratings           5\n",
      "4 out of 5 stars36 ratings             5\n",
      "4.5 out of 5 stars61 ratings           5\n",
      "4.5 out of 5 stars96 ratings           5\n",
      "4.5 out of 5 stars100 ratings          5\n",
      "4.5 out of 5 stars64 ratings           5\n",
      "5 out of 5 stars41 ratings             5\n",
      "4.5 out of 5 stars81 ratings           5\n",
      "5 out of 5 stars30 ratings             5\n",
      "5 out of 5 stars50 ratings             5\n",
      "5 out of 5 stars43 ratings             5\n",
      "4.5 out of 5 stars101 ratings          5\n",
      "5 out of 5 stars39 ratings             4\n",
      "4 out of 5 stars48 ratings             4\n",
      "4.5 out of 5 stars90 ratings           4\n",
      "4.5 out of 5 stars103 ratings          4\n",
      "3.5 out of 5 stars12 ratings           4\n",
      "4 out of 5 stars62 ratings             4\n",
      "4.5 out of 5 stars156 ratings          4\n",
      "3.5 out of 5 stars15 ratings           4\n",
      "5 out of 5 stars40 ratings             4\n",
      "4.5 out of 5 stars94 ratings           4\n",
      "4.5 out of 5 stars93 ratings           4\n",
      "4.5 out of 5 stars72 ratings           4\n",
      "5 out of 5 stars38 ratings             4\n",
      "4.5 out of 5 stars80 ratings           4\n",
      "2 out of 5 stars3 ratings              4\n",
      "4.5 out of 5 stars170 ratings          4\n",
      "4.5 out of 5 stars188 ratings          4\n",
      "4.5 out of 5 stars82 ratings           4\n",
      "4.5 out of 5 stars78 ratings           4\n",
      "5 out of 5 stars60 ratings             4\n",
      "4.5 out of 5 stars162 ratings          3\n",
      "4 out of 5 stars31 ratings             3\n",
      "4.5 out of 5 stars137 ratings          3\n",
      "5 out of 5 stars45 ratings             3\n",
      "3 out of 5 stars8 ratings              3\n",
      "4.5 out of 5 stars110 ratings          3\n",
      "2 out of 5 stars5 ratings              3\n",
      "4.5 out of 5 stars213 ratings          3\n",
      "4.5 out of 5 stars115 ratings          3\n",
      "5 out of 5 stars57 ratings             3\n",
      "4.5 out of 5 stars66 ratings           3\n",
      "4.5 out of 5 stars84 ratings           3\n",
      "4.5 out of 5 stars197 ratings          3\n",
      "4.5 out of 5 stars89 ratings           3\n",
      "5 out of 5 stars44 ratings             3\n",
      "4 out of 5 stars77 ratings             3\n",
      "4.5 out of 5 stars149 ratings          3\n",
      "4.5 out of 5 stars76 ratings           3\n",
      "5 out of 5 stars54 ratings             3\n",
      "4 out of 5 stars34 ratings             3\n",
      "5 out of 5 stars85 ratings             3\n",
      "4.5 out of 5 stars97 ratings           3\n",
      "5 out of 5 stars63 ratings             3\n",
      "4 out of 5 stars35 ratings             3\n",
      "3.5 out of 5 stars16 ratings           3\n",
      "4.5 out of 5 stars98 ratings           3\n",
      "4 out of 5 stars65 ratings             3\n",
      "5 out of 5 stars34 ratings             3\n",
      "4 out of 5 stars93 ratings             3\n",
      "4.5 out of 5 stars121 ratings          3\n",
      "4.5 out of 5 stars79 ratings           3\n",
      "5 out of 5 stars58 ratings             3\n",
      "5 out of 5 stars29 ratings             3\n",
      "4.5 out of 5 stars169 ratings          3\n",
      "4.5 out of 5 stars159 ratings          3\n",
      "4 out of 5 stars37 ratings             3\n",
      "5 out of 5 stars46 ratings             3\n",
      "3 out of 5 stars10 ratings             3\n",
      "5 out of 5 stars28 ratings             3\n",
      "3.5 out of 5 stars21 ratings           3\n",
      "5 out of 5 stars67 ratings             3\n",
      "4 out of 5 stars55 ratings             2\n",
      "4.5 out of 5 stars261 ratings          2\n",
      "4.5 out of 5 stars120 ratings          2\n",
      "2.5 out of 5 stars8 ratings            2\n",
      "4 out of 5 stars112 ratings            2\n",
      "4.5 out of 5 stars102 ratings          2\n",
      "5 out of 5 stars188 ratings            2\n",
      "4 out of 5 stars103 ratings            2\n",
      "4.5 out of 5 stars113 ratings          2\n",
      "3.5 out of 5 stars30 ratings           2\n",
      "1 out of 5 stars3 ratings              2\n",
      "4.5 out of 5 stars174 ratings          2\n",
      "4.5 out of 5 stars133 ratings          2\n",
      "4.5 out of 5 stars91 ratings           2\n",
      "4 out of 5 stars59 ratings             2\n",
      "1.5 out of 5 stars3 ratings            2\n",
      "3.5 out of 5 stars14 ratings           2\n",
      "4.5 out of 5 stars218 ratings          2\n",
      "5 out of 5 stars48 ratings             2\n",
      "4 out of 5 stars72 ratings             2\n",
      "4.5 out of 5 stars262 ratings          2\n",
      "4.5 out of 5 stars302 ratings          2\n",
      "4.5 out of 5 stars146 ratings          2\n",
      "4.5 out of 5 stars267 ratings          2\n",
      "4.5 out of 5 stars375 ratings          2\n",
      "5 out of 5 stars64 ratings             2\n",
      "5 out of 5 stars130 ratings            2\n",
      "4.5 out of 5 stars400 ratings          2\n",
      "5 out of 5 stars164 ratings            2\n",
      "4.5 out of 5 stars119 ratings          2\n",
      "4.5 out of 5 stars154 ratings          2\n",
      "4.5 out of 5 stars1,150 ratings        2\n",
      "4.5 out of 5 stars469 ratings          2\n",
      "5 out of 5 stars111 ratings            2\n",
      "4.5 out of 5 stars125 ratings          2\n",
      "4.5 out of 5 stars206 ratings          2\n",
      "3.5 out of 5 stars25 ratings           2\n",
      "4.5 out of 5 stars150 ratings          2\n",
      "4.5 out of 5 stars123 ratings          2\n",
      "4 out of 5 stars63 ratings             2\n",
      "4 out of 5 stars46 ratings             2\n",
      "4.5 out of 5 stars200 ratings          2\n",
      "4 out of 5 stars61 ratings             2\n",
      "4.5 out of 5 stars153 ratings          2\n",
      "3.5 out of 5 stars26 ratings           2\n",
      "4.5 out of 5 stars363 ratings          2\n",
      "3.5 out of 5 stars17 ratings           2\n",
      "4 out of 5 stars137 ratings            2\n",
      "5 out of 5 stars83 ratings             2\n",
      "4.5 out of 5 stars348 ratings          2\n",
      "3.5 out of 5 stars18 ratings           2\n",
      "4.5 out of 5 stars186 ratings          2\n",
      "3 out of 5 stars6 ratings              2\n",
      "4.5 out of 5 stars222 ratings          2\n",
      "4 out of 5 stars57 ratings             2\n",
      "4.5 out of 5 stars134 ratings          2\n",
      "4.5 out of 5 stars95 ratings           2\n",
      "4.5 out of 5 stars519 ratings          2\n",
      "4.5 out of 5 stars245 ratings          2\n",
      "5 out of 5 stars53 ratings             2\n",
      "4.5 out of 5 stars392 ratings          2\n",
      "4 out of 5 stars26 ratings             2\n",
      "5 out of 5 stars72 ratings             2\n",
      "4.5 out of 5 stars171 ratings          2\n",
      "4.5 out of 5 stars181 ratings          2\n",
      "4.5 out of 5 stars87 ratings           2\n",
      "4.5 out of 5 stars196 ratings          2\n",
      "5 out of 5 stars74 ratings             2\n",
      "4.5 out of 5 stars151 ratings          2\n",
      "4.5 out of 5 stars92 ratings           2\n",
      "4.5 out of 5 stars166 ratings          2\n",
      "5 out of 5 stars153 ratings            2\n",
      "4.5 out of 5 stars158 ratings          2\n",
      "4 out of 5 stars80 ratings             2\n",
      "4.5 out of 5 stars856 ratings          2\n",
      "4 out of 5 stars47 ratings             2\n",
      "4.5 out of 5 stars130 ratings          2\n",
      "5 out of 5 stars101 ratings            2\n",
      "4.5 out of 5 stars116 ratings          2\n",
      "4.5 out of 5 stars438 ratings          2\n",
      "4.5 out of 5 stars243 ratings          2\n",
      "5 out of 5 stars224 ratings            2\n",
      "3.5 out of 5 stars13 ratings           2\n",
      "4.5 out of 5 stars315 ratings          2\n",
      "5 out of 5 stars47 ratings             2\n",
      "4.5 out of 5 stars184 ratings          2\n",
      "5 out of 5 stars35 ratings             2\n",
      "4.5 out of 5 stars177 ratings          2\n",
      "5 out of 5 stars81 ratings             2\n",
      "4.5 out of 5 stars108 ratings          2\n",
      "5 out of 5 stars79 ratings             2\n",
      "4 out of 5 stars52 ratings             2\n",
      "4.5 out of 5 stars148 ratings          2\n",
      "4.5 out of 5 stars114 ratings          2\n",
      "4.5 out of 5 stars67 ratings           2\n",
      "4.5 out of 5 stars190 ratings          2\n",
      "4.5 out of 5 stars480 ratings          2\n",
      "4 out of 5 stars180 ratings            1\n",
      "5 out of 5 stars71 ratings             1\n",
      "3 out of 5 stars13 ratings             1\n",
      "4 out of 5 stars139 ratings            1\n",
      "4.5 out of 5 stars246 ratings          1\n",
      "4 out of 5 stars85 ratings             1\n",
      "4.5 out of 5 stars105 ratings          1\n",
      "4.5 out of 5 stars975 ratings          1\n",
      "4.5 out of 5 stars292 ratings          1\n",
      "4 out of 5 stars56 ratings             1\n",
      "4.5 out of 5 stars260 ratings          1\n",
      "4.5 out of 5 stars1,263 ratings        1\n",
      "4.5 out of 5 stars129 ratings          1\n",
      "5 out of 5 stars721 ratings            1\n",
      "5 out of 5 stars1,425 ratings          1\n",
      "4.5 out of 5 stars381 ratings          1\n",
      "2 out of 5 stars10 ratings             1\n",
      "4.5 out of 5 stars578 ratings          1\n",
      "4.5 out of 5 stars126 ratings          1\n",
      "3.5 out of 5 stars33 ratings           1\n",
      "5 out of 5 stars267 ratings            1\n",
      "4 out of 5 stars202 ratings            1\n",
      "4 out of 5 stars43 ratings             1\n",
      "4 out of 5 stars96 ratings             1\n",
      "4 out of 5 stars74 ratings             1\n",
      "4 out of 5 stars89 ratings             1\n",
      "4.5 out of 5 stars1,107 ratings        1\n",
      "4.5 out of 5 stars511 ratings          1\n",
      "5 out of 5 stars61 ratings             1\n",
      "5 out of 5 stars252 ratings            1\n",
      "4.5 out of 5 stars265 ratings          1\n",
      "5 out of 5 stars352 ratings            1\n",
      "4 out of 5 stars68 ratings             1\n",
      "4.5 out of 5 stars259 ratings          1\n",
      "4 out of 5 stars227 ratings            1\n",
      "4.5 out of 5 stars352 ratings          1\n",
      "4.5 out of 5 stars378 ratings          1\n",
      "4.5 out of 5 stars268 ratings          1\n",
      "5 out of 5 stars189 ratings            1\n",
      "4.5 out of 5 stars374 ratings          1\n",
      "4 out of 5 stars222 ratings            1\n",
      "4.5 out of 5 stars201 ratings          1\n",
      "3.5 out of 5 stars45 ratings           1\n",
      "3 out of 5 stars14 ratings             1\n",
      "3 out of 5 stars20 ratings             1\n",
      "4.5 out of 5 stars143 ratings          1\n",
      "5 out of 5 stars167 ratings            1\n",
      "4 out of 5 stars54 ratings             1\n",
      "5 out of 5 stars146 ratings            1\n",
      "5 out of 5 stars342 ratings            1\n",
      "4 out of 5 stars144 ratings            1\n",
      "5 out of 5 stars55 ratings             1\n",
      "5 out of 5 stars233 ratings            1\n",
      "4.5 out of 5 stars5,972 ratings        1\n",
      "5 out of 5 stars70 ratings             1\n",
      "4 out of 5 stars120 ratings            1\n",
      "3.5 out of 5 stars134 ratings          1\n",
      "4.5 out of 5 stars221 ratings          1\n",
      "5 out of 5 stars241 ratings            1\n",
      "5 out of 5 stars150 ratings            1\n",
      "4.5 out of 5 stars276 ratings          1\n",
      "4.5 out of 5 stars252 ratings          1\n",
      "5 out of 5 stars272 ratings            1\n",
      "5 out of 5 stars66 ratings             1\n",
      "4.5 out of 5 stars1,838 ratings        1\n",
      "5 out of 5 stars97 ratings             1\n",
      "4.5 out of 5 stars646 ratings          1\n",
      "5 out of 5 stars540 ratings            1\n",
      "4.5 out of 5 stars257 ratings          1\n",
      "4.5 out of 5 stars147 ratings          1\n",
      "4.5 out of 5 stars269 ratings          1\n",
      "4 out of 5 stars110 ratings            1\n",
      "4.5 out of 5 stars4,184 ratings        1\n",
      "4.5 out of 5 stars3,461 ratings        1\n",
      "5 out of 5 stars1,827 ratings          1\n",
      "4.5 out of 5 stars6,981 ratings        1\n",
      "4.5 out of 5 stars144 ratings          1\n",
      "4.5 out of 5 stars228 ratings          1\n",
      "5 out of 5 stars116 ratings            1\n",
      "5 out of 5 stars155 ratings            1\n",
      "4.5 out of 5 stars307 ratings          1\n",
      "4.5 out of 5 stars985 ratings          1\n",
      "4.5 out of 5 stars507 ratings          1\n",
      "4.5 out of 5 stars173 ratings          1\n",
      "4.5 out of 5 stars215 ratings          1\n",
      "4.5 out of 5 stars1,564 ratings        1\n",
      "4 out of 5 stars249 ratings            1\n",
      "4.5 out of 5 stars390 ratings          1\n",
      "4.5 out of 5 stars203 ratings          1\n",
      "5 out of 5 stars94 ratings             1\n",
      "5 out of 5 stars179 ratings            1\n",
      "4 out of 5 stars150 ratings            1\n",
      "4 out of 5 stars67 ratings             1\n",
      "4.5 out of 5 stars1,490 ratings        1\n",
      "4.5 out of 5 stars224 ratings          1\n",
      "5 out of 5 stars305 ratings            1\n",
      "5 out of 5 stars137 ratings            1\n",
      "5 out of 5 stars207 ratings            1\n",
      "4.5 out of 5 stars376 ratings          1\n",
      "3.5 out of 5 stars35 ratings           1\n",
      "4.5 out of 5 stars797 ratings          1\n",
      "4.5 out of 5 stars387 ratings          1\n",
      "4.5 out of 5 stars334 ratings          1\n",
      "3 out of 5 stars24 ratings             1\n",
      "5 out of 5 stars2,277 ratings          1\n",
      "4.5 out of 5 stars234 ratings          1\n",
      "4 out of 5 stars39 ratings             1\n",
      "3 out of 5 stars9 ratings              1\n",
      "5 out of 5 stars240 ratings            1\n",
      "4.5 out of 5 stars399 ratings          1\n",
      "4.5 out of 5 stars152 ratings          1\n",
      "4 out of 5 stars73 ratings             1\n",
      "4.5 out of 5 stars364 ratings          1\n",
      "4 out of 5 stars1,412 ratings          1\n",
      "4.5 out of 5 stars138 ratings          1\n",
      "4.5 out of 5 stars961 ratings          1\n",
      "2.5 out of 5 stars11 ratings           1\n",
      "4.5 out of 5 stars128 ratings          1\n",
      "5 out of 5 stars209 ratings            1\n",
      "4.5 out of 5 stars345 ratings          1\n",
      "4.5 out of 5 stars1,112 ratings        1\n",
      "4.5 out of 5 stars5,973 ratings        1\n",
      "4.5 out of 5 stars216 ratings          1\n",
      "4.5 out of 5 stars140 ratings          1\n",
      "4.5 out of 5 stars5,324 ratings        1\n",
      "4 out of 5 stars173 ratings            1\n",
      "4.5 out of 5 stars273 ratings          1\n",
      "4.5 out of 5 stars2,494 ratings        1\n",
      "4.5 out of 5 stars139 ratings          1\n",
      "4.5 out of 5 stars1,539 ratings        1\n",
      "4.5 out of 5 stars335 ratings          1\n",
      "4.5 out of 5 stars360 ratings          1\n",
      "4.5 out of 5 stars124 ratings          1\n",
      "4.5 out of 5 stars349 ratings          1\n",
      "4.5 out of 5 stars489 ratings          1\n",
      "4.5 out of 5 stars299 ratings          1\n",
      "4.5 out of 5 stars719 ratings          1\n",
      "4.5 out of 5 stars142 ratings          1\n",
      "3.5 out of 5 stars41 ratings           1\n",
      "5 out of 5 stars12,573 ratings         1\n",
      "2 out of 5 stars6 ratings              1\n",
      "4.5 out of 5 stars930 ratings          1\n",
      "4.5 out of 5 stars858 ratings          1\n",
      "4.5 out of 5 stars648 ratings          1\n",
      "5 out of 5 stars119 ratings            1\n",
      "5 out of 5 stars84 ratings             1\n",
      "5 out of 5 stars256 ratings            1\n",
      "5 out of 5 stars77 ratings             1\n",
      "4 out of 5 stars130 ratings            1\n",
      "4.5 out of 5 stars355 ratings          1\n",
      "4 out of 5 stars116 ratings            1\n",
      "4.5 out of 5 stars319 ratings          1\n",
      "4.5 out of 5 stars183 ratings          1\n",
      "4.5 out of 5 stars1,807 ratings        1\n",
      "4.5 out of 5 stars523 ratings          1\n",
      "4.5 out of 5 stars157 ratings          1\n",
      "4.5 out of 5 stars326 ratings          1\n",
      "4 out of 5 stars41 ratings             1\n",
      "4.5 out of 5 stars647 ratings          1\n",
      "4.5 out of 5 stars2,924 ratings        1\n",
      "4.5 out of 5 stars486 ratings          1\n",
      "2 out of 5 stars4 ratings              1\n",
      "4.5 out of 5 stars85 ratings           1\n",
      "5 out of 5 stars80 ratings             1\n",
      "5 out of 5 stars128 ratings            1\n",
      "4.5 out of 5 stars472 ratings          1\n",
      "4.5 out of 5 stars328 ratings          1\n",
      "4.5 out of 5 stars168 ratings          1\n",
      "4.5 out of 5 stars232 ratings          1\n",
      "5 out of 5 stars819 ratings            1\n",
      "4.5 out of 5 stars562 ratings          1\n",
      "4.5 out of 5 stars122 ratings          1\n",
      "4.5 out of 5 stars882 ratings          1\n",
      "4.5 out of 5 stars887 ratings          1\n",
      "3.5 out of 5 stars36 ratings           1\n",
      "4.5 out of 5 stars929 ratings          1\n",
      "4.5 out of 5 stars127 ratings          1\n",
      "5 out of 5 stars212 ratings            1\n",
      "5 out of 5 stars135 ratings            1\n",
      "4 out of 5 stars183 ratings            1\n",
      "4.5 out of 5 stars132 ratings          1\n",
      "3.5 out of 5 stars28 ratings           1\n",
      "5 out of 5 stars51 ratings             1\n",
      "4 out of 5 stars140 ratings            1\n",
      "4.5 out of 5 stars642 ratings          1\n",
      "4.5 out of 5 stars1,563 ratings        1\n",
      "4.5 out of 5 stars135 ratings          1\n",
      "4.5 out of 5 stars202 ratings          1\n",
      "4.5 out of 5 stars145 ratings          1\n",
      "4 out of 5 stars511 ratings            1\n",
      "4.5 out of 5 stars367 ratings          1\n",
      "5 out of 5 stars136 ratings            1\n",
      "4.5 out of 5 stars117 ratings          1\n",
      "4 out of 5 stars49 ratings             1\n",
      "4.5 out of 5 stars2,161 ratings        1\n",
      "4.5 out of 5 stars619 ratings          1\n",
      "4.5 out of 5 stars735 ratings          1\n",
      "4.5 out of 5 stars538 ratings          1\n",
      "3.5 out of 5 stars34 ratings           1\n",
      "4 out of 5 stars66 ratings             1\n",
      "4 out of 5 stars164 ratings            1\n",
      "3 out of 5 stars82 ratings             1\n",
      "4.5 out of 5 stars136 ratings          1\n",
      "4.5 out of 5 stars329 ratings          1\n",
      "4 out of 5 stars105 ratings            1\n",
      "4.5 out of 5 stars266 ratings          1\n",
      "5 out of 5 stars96 ratings             1\n",
      "4 out of 5 stars141 ratings            1\n",
      "5 out of 5 stars845 ratings            1\n",
      "5 out of 5 stars664 ratings            1\n",
      "5 out of 5 stars572 ratings            1\n",
      "5 out of 5 stars1,006 ratings          1\n",
      "5 out of 5 stars720 ratings            1\n",
      "5 out of 5 stars636 ratings            1\n",
      "5 out of 5 stars1,423 ratings          1\n",
      "3.5 out of 5 stars46 ratings           1\n",
      "3.5 out of 5 stars10 ratings           1\n",
      "3.5 out of 5 stars29 ratings           1\n",
      "5 out of 5 stars113 ratings            1\n",
      "4 out of 5 stars319 ratings            1\n",
      "4.5 out of 5 stars258 ratings          1\n",
      "4.5 out of 5 stars1,636 ratings        1\n",
      "5 out of 5 stars91 ratings             1\n",
      "5 out of 5 stars382 ratings            1\n",
      "5 out of 5 stars102 ratings            1\n",
      "5 out of 5 stars1,823 ratings          1\n",
      "4.5 out of 5 stars131 ratings          1\n",
      "5 out of 5 stars213 ratings            1\n",
      "4.5 out of 5 stars287 ratings          1\n",
      "5 out of 5 stars219 ratings            1\n",
      "4 out of 5 stars233 ratings            1\n",
      "4 out of 5 stars40 ratings             1\n",
      "4.5 out of 5 stars396 ratings          1\n",
      "3.5 out of 5 stars112 ratings          1\n",
      "4.5 out of 5 stars1,216 ratings        1\n",
      "5 out of 5 stars591 ratings            1\n",
      "4.5 out of 5 stars193 ratings          1\n",
      "5 out of 5 stars78 ratings             1\n",
      "3.5 out of 5 stars85 ratings           1\n",
      "4.5 out of 5 stars312 ratings          1\n",
      "4.5 out of 5 stars487 ratings          1\n",
      "4.5 out of 5 stars1,317 ratings        1\n",
      "4 out of 5 stars44 ratings             1\n",
      "5 out of 5 stars62 ratings             1\n",
      "4 out of 5 stars188 ratings            1\n",
      "4.5 out of 5 stars419 ratings          1\n",
      "5 out of 5 stars265 ratings            1\n",
      "4 out of 5 stars51 ratings             1\n",
      "5 out of 5 stars274 ratings            1\n",
      "4 out of 5 stars87 ratings             1\n",
      "4.5 out of 5 stars1,088 ratings        1\n",
      "4 out of 5 stars136 ratings            1\n",
      "4 out of 5 stars94 ratings             1\n",
      "4.5 out of 5 stars558 ratings          1\n",
      "5 out of 5 stars926 ratings            1\n",
      "4 out of 5 stars171 ratings            1\n",
      "5 out of 5 stars92 ratings             1\n",
      "4 out of 5 stars58 ratings             1\n",
      "4.5 out of 5 stars2,236 ratings        1\n",
      "4.5 out of 5 stars536 ratings          1\n",
      "5 out of 5 stars5,500 ratings          1\n",
      "4 out of 5 stars78 ratings             1\n",
      "3.5 out of 5 stars54 ratings           1\n",
      "4.5 out of 5 stars484 ratings          1\n",
      "4.5 out of 5 stars941 ratings          1\n",
      "4.5 out of 5 stars322 ratings          1\n",
      "4.5 out of 5 stars841 ratings          1\n",
      "4.5 out of 5 stars178 ratings          1\n",
      "4 out of 5 stars50 ratings             1\n",
      "4 out of 5 stars92 ratings             1\n",
      "4.5 out of 5 stars229 ratings          1\n",
      "4.5 out of 5 stars397 ratings          1\n",
      "4.5 out of 5 stars1,491 ratings        1\n",
      "4.5 out of 5 stars361 ratings          1\n",
      "5 out of 5 stars120 ratings            1\n",
      "4.5 out of 5 stars112 ratings          1\n",
      "5 out of 5 stars192 ratings            1\n",
      "4.5 out of 5 stars109 ratings          1\n",
      "4 out of 5 stars133 ratings            1\n",
      "5 out of 5 stars165 ratings            1\n",
      "4.5 out of 5 stars577 ratings          1\n",
      "5 out of 5 stars208 ratings            1\n",
      "5 out of 5 stars298 ratings            1\n",
      "5 out of 5 stars838 ratings            1\n",
      "4.5 out of 5 stars141 ratings          1\n",
      "4.5 out of 5 stars935 ratings          1\n",
      "4.5 out of 5 stars176 ratings          1\n",
      "5 out of 5 stars173 ratings            1\n",
      "4.5 out of 5 stars195 ratings          1\n",
      "4.5 out of 5 stars1,869 ratings        1\n",
      "4.5 out of 5 stars227 ratings          1\n",
      "4.5 out of 5 stars271 ratings          1\n",
      "4.5 out of 5 stars544 ratings          1\n",
      "4.5 out of 5 stars540 ratings          1\n",
      "4 out of 5 stars71 ratings             1\n",
      "4 out of 5 stars247 ratings            1\n",
      "4.5 out of 5 stars182 ratings          1\n",
      "4 out of 5 stars161 ratings            1\n",
      "5 out of 5 stars159 ratings            1\n",
      "5 out of 5 stars73 ratings             1\n",
      "4.5 out of 5 stars561 ratings          1\n",
      "4.5 out of 5 stars1,080 ratings        1\n",
      "4.5 out of 5 stars460 ratings          1\n",
      "4.5 out of 5 stars575 ratings          1\n",
      "4.5 out of 5 stars443 ratings          1\n",
      "4.5 out of 5 stars683 ratings          1\n",
      "4.5 out of 5 stars291 ratings          1\n",
      "4.5 out of 5 stars688 ratings          1\n",
      "5 out of 5 stars59 ratings             1\n",
      "5 out of 5 stars68 ratings             1\n",
      "5 out of 5 stars176 ratings            1\n",
      "4.5 out of 5 stars437 ratings          1\n",
      "5 out of 5 stars99 ratings             1\n",
      "4 out of 5 stars38 ratings             1\n",
      "4 out of 5 stars1,217 ratings          1\n",
      "5 out of 5 stars239 ratings            1\n",
      "5 out of 5 stars143 ratings            1\n",
      "4.5 out of 5 stars476 ratings          1\n",
      "4.5 out of 5 stars359 ratings          1\n",
      "5 out of 5 stars12,569 ratings         1\n",
      "4.5 out of 5 stars506 ratings          1\n",
      "4.5 out of 5 stars118 ratings          1\n",
      "4.5 out of 5 stars551 ratings          1\n",
      "4.5 out of 5 stars959 ratings          1\n",
      "5 out of 5 stars494 ratings            1\n",
      "4.5 out of 5 stars194 ratings          1\n",
      "3.5 out of 5 stars61 ratings           1\n",
      "5 out of 5 stars321 ratings            1\n",
      "5 out of 5 stars93 ratings             1\n",
      "4.5 out of 5 stars747 ratings          1\n",
      "4 out of 5 stars76 ratings             1\n"
     ]
    }
   ],
   "source": [
    "#Checking all rating values to clean and standardize them for better readability\n",
    "print(df['stars'].value_counts().to_string())"
   ]
  },
  {
   "cell_type": "code",
   "execution_count": 449,
   "id": "458d9ec6-4624-4931-a30d-1e9f27faecdf",
   "metadata": {},
   "outputs": [],
   "source": [
    "# Extracting numeric ratings from text and converting them to float for analysis\n",
    "df['stars'] = df['stars'].str.extract(r'(\\d+\\.?\\d*) out of 5 stars')[0].astype(float)"
   ]
  },
  {
   "cell_type": "code",
   "execution_count": 450,
   "id": "42979ae0-068a-4f90-aa42-86da1fe2d764",
   "metadata": {},
   "outputs": [],
   "source": [
    "filtered_df = df[df['stars'].between(0,5, inclusive=\"both\")]"
   ]
  },
  {
   "cell_type": "code",
   "execution_count": 451,
   "id": "f7d61dd8-2d86-4bd8-b3dd-2ce35b92cf1d",
   "metadata": {},
   "outputs": [
    {
     "name": "stdout",
     "output_type": "stream",
     "text": [
      "15072\n"
     ]
    }
   ],
   "source": [
    "#Extracted numerical ratings from text for further processing\n",
    "print(len(filtered_df['stars']))"
   ]
  },
  {
   "cell_type": "code",
   "execution_count": 452,
   "id": "a32dbabd-4dc8-420e-9630-58ba899d78a1",
   "metadata": {},
   "outputs": [],
   "source": [
    "#Replacing missing ratings with null values for better readability and consistency\n",
    "df['stars'] = df['stars'].replace(to_replace='Not rated yet', value=np.nan)"
   ]
  },
  {
   "cell_type": "code",
   "execution_count": 453,
   "id": "ba91ef1d-356f-44aa-ad96-85329c17bd23",
   "metadata": {},
   "outputs": [
    {
     "data": {
      "text/plain": [
       "15072"
      ]
     },
     "execution_count": 453,
     "metadata": {},
     "output_type": "execute_result"
    }
   ],
   "source": [
    "df['stars'].value_counts().sum()"
   ]
  },
  {
   "cell_type": "code",
   "execution_count": 454,
   "id": "53ff48b4-6cf3-49a4-9536-8b7e5a814a54",
   "metadata": {},
   "outputs": [],
   "source": [
    "#Identified entries where ratings were not provided\n",
    "Not_rated_yet = 72417"
   ]
  },
  {
   "cell_type": "code",
   "execution_count": 455,
   "id": "53bbeb59-9b8d-4f29-a402-77afdc13612d",
   "metadata": {},
   "outputs": [],
   "source": [
    "total_lenth_of_rating = len(df['stars'])"
   ]
  },
  {
   "cell_type": "code",
   "execution_count": 456,
   "id": "8472cec7-d927-4206-a5cf-728d3fcba8c0",
   "metadata": {},
   "outputs": [
    {
     "data": {
      "text/plain": [
       "87489"
      ]
     },
     "execution_count": 456,
     "metadata": {},
     "output_type": "execute_result"
    }
   ],
   "source": [
    "total_lenth_of_rating"
   ]
  },
  {
   "cell_type": "code",
   "execution_count": 457,
   "id": "bbbe84a3-d1a6-4035-8192-5f4361536cfa",
   "metadata": {},
   "outputs": [
    {
     "data": {
      "text/plain": [
       "72417"
      ]
     },
     "execution_count": 457,
     "metadata": {},
     "output_type": "execute_result"
    }
   ],
   "source": [
    "#Validating if all ratings have been successfully extracted\n",
    "87489-15072"
   ]
  },
  {
   "cell_type": "code",
   "execution_count": 458,
   "id": "66bc95a7-6db9-4ce9-8ed4-276ff51ef9a1",
   "metadata": {},
   "outputs": [],
   "source": [
    "#The above values indicate entries where ratings were not provided, which we have converted accordingly"
   ]
  },
  {
   "cell_type": "code",
   "execution_count": 459,
   "id": "b5af6d25-07b7-4e72-9f53-4ac3be4df638",
   "metadata": {},
   "outputs": [
    {
     "name": "stdout",
     "output_type": "stream",
     "text": [
      "stars\n",
      "5.0    6761\n",
      "4.5    4046\n",
      "4.0    2729\n",
      "3.0     711\n",
      "3.5     413\n",
      "2.0     182\n",
      "1.0     175\n",
      "2.5      47\n",
      "1.5       8\n"
     ]
    }
   ],
   "source": [
    "print(df['stars'].value_counts().to_string())"
   ]
  },
  {
   "cell_type": "code",
   "execution_count": 460,
   "id": "9cb3a423-19f8-4c0d-8780-ba09741bcd9d",
   "metadata": {},
   "outputs": [],
   "source": [
    "df['price'] = pd.to_numeric(df['price'], errors='coerce')"
   ]
  },
  {
   "cell_type": "code",
   "execution_count": 461,
   "id": "3c983c75-5a48-4edd-b259-2f984c26c6f1",
   "metadata": {},
   "outputs": [
    {
     "data": {
      "text/plain": [
       "dtype('float64')"
      ]
     },
     "execution_count": 461,
     "metadata": {},
     "output_type": "execute_result"
    }
   ],
   "source": [
    "df['price'].dtype"
   ]
  },
  {
   "cell_type": "code",
   "execution_count": 462,
   "id": "bac5b94f-32ef-4c3a-85dc-5a852d1426a0",
   "metadata": {},
   "outputs": [
    {
     "data": {
      "text/plain": [
       "38069406.95"
      ]
     },
     "execution_count": 462,
     "metadata": {},
     "output_type": "execute_result"
    }
   ],
   "source": [
    "df['price'].sum()"
   ]
  },
  {
   "cell_type": "code",
   "execution_count": 463,
   "id": "c300fb90-99df-431b-8309-49329814c639",
   "metadata": {},
   "outputs": [
    {
     "data": {
      "text/plain": [
       "487.9754784336346"
      ]
     },
     "execution_count": 463,
     "metadata": {},
     "output_type": "execute_result"
    }
   ],
   "source": [
    "df['price'].mean()"
   ]
  },
  {
   "cell_type": "code",
   "execution_count": 464,
   "id": "66f53e68-dd61-41a0-97d0-43db55766f4d",
   "metadata": {},
   "outputs": [
    {
     "data": {
      "text/html": [
       "<div>\n",
       "<style scoped>\n",
       "    .dataframe tbody tr th:only-of-type {\n",
       "        vertical-align: middle;\n",
       "    }\n",
       "\n",
       "    .dataframe tbody tr th {\n",
       "        vertical-align: top;\n",
       "    }\n",
       "\n",
       "    .dataframe thead th {\n",
       "        text-align: right;\n",
       "    }\n",
       "</style>\n",
       "<table border=\"1\" class=\"dataframe\">\n",
       "  <thead>\n",
       "    <tr style=\"text-align: right;\">\n",
       "      <th></th>\n",
       "      <th>name</th>\n",
       "      <th>author</th>\n",
       "      <th>narrator</th>\n",
       "      <th>time</th>\n",
       "      <th>releasedate</th>\n",
       "      <th>language</th>\n",
       "      <th>stars</th>\n",
       "      <th>price</th>\n",
       "      <th>hours</th>\n",
       "      <th>minutes</th>\n",
       "      <th>total_minutes</th>\n",
       "    </tr>\n",
       "  </thead>\n",
       "  <tbody>\n",
       "    <tr>\n",
       "      <th>0</th>\n",
       "      <td>Geronimo Stilton #11 &amp; #12</td>\n",
       "      <td>GeronimoStilton</td>\n",
       "      <td>BillLobely</td>\n",
       "      <td>2 hrs and 20 mins</td>\n",
       "      <td>2008-04-08</td>\n",
       "      <td>english</td>\n",
       "      <td>5.0</td>\n",
       "      <td>468.0</td>\n",
       "      <td>2.0</td>\n",
       "      <td>20.0</td>\n",
       "      <td>140.0</td>\n",
       "    </tr>\n",
       "    <tr>\n",
       "      <th>1</th>\n",
       "      <td>The Burning Maze</td>\n",
       "      <td>RickRiordan</td>\n",
       "      <td>RobbieDaymond</td>\n",
       "      <td>13 hrs and 8 mins</td>\n",
       "      <td>2018-01-05</td>\n",
       "      <td>english</td>\n",
       "      <td>4.5</td>\n",
       "      <td>820.0</td>\n",
       "      <td>13.0</td>\n",
       "      <td>8.0</td>\n",
       "      <td>788.0</td>\n",
       "    </tr>\n",
       "    <tr>\n",
       "      <th>2</th>\n",
       "      <td>The Deep End</td>\n",
       "      <td>JeffKinney</td>\n",
       "      <td>DanRussell</td>\n",
       "      <td>2 hrs and 3 mins</td>\n",
       "      <td>2020-06-11</td>\n",
       "      <td>english</td>\n",
       "      <td>4.5</td>\n",
       "      <td>410.0</td>\n",
       "      <td>2.0</td>\n",
       "      <td>3.0</td>\n",
       "      <td>123.0</td>\n",
       "    </tr>\n",
       "    <tr>\n",
       "      <th>3</th>\n",
       "      <td>Daughter Of The Deep</td>\n",
       "      <td>RickRiordan</td>\n",
       "      <td>SoneelaNankani</td>\n",
       "      <td>11 hrs and 16 mins</td>\n",
       "      <td>2021-05-10</td>\n",
       "      <td>english</td>\n",
       "      <td>4.5</td>\n",
       "      <td>615.0</td>\n",
       "      <td>11.0</td>\n",
       "      <td>16.0</td>\n",
       "      <td>676.0</td>\n",
       "    </tr>\n",
       "    <tr>\n",
       "      <th>4</th>\n",
       "      <td>The Lightning Thief: Percy Jackson, Book 1</td>\n",
       "      <td>RickRiordan</td>\n",
       "      <td>JesseBernstein</td>\n",
       "      <td>10 hrs</td>\n",
       "      <td>2010-01-13</td>\n",
       "      <td>english</td>\n",
       "      <td>4.5</td>\n",
       "      <td>820.0</td>\n",
       "      <td>10.0</td>\n",
       "      <td>0.0</td>\n",
       "      <td>600.0</td>\n",
       "    </tr>\n",
       "    <tr>\n",
       "      <th>...</th>\n",
       "      <td>...</td>\n",
       "      <td>...</td>\n",
       "      <td>...</td>\n",
       "      <td>...</td>\n",
       "      <td>...</td>\n",
       "      <td>...</td>\n",
       "      <td>...</td>\n",
       "      <td>...</td>\n",
       "      <td>...</td>\n",
       "      <td>...</td>\n",
       "      <td>...</td>\n",
       "    </tr>\n",
       "    <tr>\n",
       "      <th>87484</th>\n",
       "      <td>Last Days Of The Bus Club</td>\n",
       "      <td>ChrisStewart</td>\n",
       "      <td>ChrisStewart</td>\n",
       "      <td>7 hrs and 34 mins</td>\n",
       "      <td>2017-09-03</td>\n",
       "      <td>english</td>\n",
       "      <td>NaN</td>\n",
       "      <td>596.0</td>\n",
       "      <td>7.0</td>\n",
       "      <td>34.0</td>\n",
       "      <td>454.0</td>\n",
       "    </tr>\n",
       "    <tr>\n",
       "      <th>87485</th>\n",
       "      <td>The Alps</td>\n",
       "      <td>StephenO'Shea</td>\n",
       "      <td>RobertFass</td>\n",
       "      <td>10 hrs and 7 mins</td>\n",
       "      <td>2017-02-21</td>\n",
       "      <td>english</td>\n",
       "      <td>NaN</td>\n",
       "      <td>820.0</td>\n",
       "      <td>10.0</td>\n",
       "      <td>7.0</td>\n",
       "      <td>607.0</td>\n",
       "    </tr>\n",
       "    <tr>\n",
       "      <th>87486</th>\n",
       "      <td>The Innocents Abroad</td>\n",
       "      <td>MarkTwain</td>\n",
       "      <td>FloGibson</td>\n",
       "      <td>19 hrs and 4 mins</td>\n",
       "      <td>2016-12-30</td>\n",
       "      <td>english</td>\n",
       "      <td>NaN</td>\n",
       "      <td>938.0</td>\n",
       "      <td>19.0</td>\n",
       "      <td>4.0</td>\n",
       "      <td>1144.0</td>\n",
       "    </tr>\n",
       "    <tr>\n",
       "      <th>87487</th>\n",
       "      <td>A Sentimental Journey</td>\n",
       "      <td>LaurenceSterne</td>\n",
       "      <td>AntonLesser</td>\n",
       "      <td>4 hrs and 8 mins</td>\n",
       "      <td>2011-02-23</td>\n",
       "      <td>english</td>\n",
       "      <td>NaN</td>\n",
       "      <td>680.0</td>\n",
       "      <td>4.0</td>\n",
       "      <td>8.0</td>\n",
       "      <td>248.0</td>\n",
       "    </tr>\n",
       "    <tr>\n",
       "      <th>87488</th>\n",
       "      <td>Havana</td>\n",
       "      <td>MarkKurlansky</td>\n",
       "      <td>FleetCooper</td>\n",
       "      <td>6 hrs and 1 min</td>\n",
       "      <td>2017-07-03</td>\n",
       "      <td>english</td>\n",
       "      <td>NaN</td>\n",
       "      <td>569.0</td>\n",
       "      <td>6.0</td>\n",
       "      <td>0.0</td>\n",
       "      <td>360.0</td>\n",
       "    </tr>\n",
       "  </tbody>\n",
       "</table>\n",
       "<p>87489 rows × 11 columns</p>\n",
       "</div>"
      ],
      "text/plain": [
       "                                             name           author  \\\n",
       "0                      Geronimo Stilton #11 & #12  GeronimoStilton   \n",
       "1                                The Burning Maze      RickRiordan   \n",
       "2                                    The Deep End       JeffKinney   \n",
       "3                            Daughter Of The Deep      RickRiordan   \n",
       "4      The Lightning Thief: Percy Jackson, Book 1      RickRiordan   \n",
       "...                                           ...              ...   \n",
       "87484                   Last Days Of The Bus Club     ChrisStewart   \n",
       "87485                                    The Alps    StephenO'Shea   \n",
       "87486                        The Innocents Abroad        MarkTwain   \n",
       "87487                       A Sentimental Journey   LaurenceSterne   \n",
       "87488                                      Havana    MarkKurlansky   \n",
       "\n",
       "             narrator                time releasedate language  stars  price  \\\n",
       "0          BillLobely   2 hrs and 20 mins  2008-04-08  english    5.0  468.0   \n",
       "1       RobbieDaymond   13 hrs and 8 mins  2018-01-05  english    4.5  820.0   \n",
       "2          DanRussell    2 hrs and 3 mins  2020-06-11  english    4.5  410.0   \n",
       "3      SoneelaNankani  11 hrs and 16 mins  2021-05-10  english    4.5  615.0   \n",
       "4      JesseBernstein              10 hrs  2010-01-13  english    4.5  820.0   \n",
       "...               ...                 ...         ...      ...    ...    ...   \n",
       "87484    ChrisStewart   7 hrs and 34 mins  2017-09-03  english    NaN  596.0   \n",
       "87485      RobertFass   10 hrs and 7 mins  2017-02-21  english    NaN  820.0   \n",
       "87486       FloGibson   19 hrs and 4 mins  2016-12-30  english    NaN  938.0   \n",
       "87487     AntonLesser    4 hrs and 8 mins  2011-02-23  english    NaN  680.0   \n",
       "87488     FleetCooper     6 hrs and 1 min  2017-07-03  english    NaN  569.0   \n",
       "\n",
       "       hours  minutes  total_minutes  \n",
       "0        2.0     20.0          140.0  \n",
       "1       13.0      8.0          788.0  \n",
       "2        2.0      3.0          123.0  \n",
       "3       11.0     16.0          676.0  \n",
       "4       10.0      0.0          600.0  \n",
       "...      ...      ...            ...  \n",
       "87484    7.0     34.0          454.0  \n",
       "87485   10.0      7.0          607.0  \n",
       "87486   19.0      4.0         1144.0  \n",
       "87487    4.0      8.0          248.0  \n",
       "87488    6.0      0.0          360.0  \n",
       "\n",
       "[87489 rows x 11 columns]"
      ]
     },
     "execution_count": 464,
     "metadata": {},
     "output_type": "execute_result"
    }
   ],
   "source": [
    "df"
   ]
  },
  {
   "cell_type": "code",
   "execution_count": 465,
   "id": "3403ab7c-a3cc-4629-8e5c-e62fcf789949",
   "metadata": {},
   "outputs": [
    {
     "data": {
      "text/html": [
       "<div>\n",
       "<style scoped>\n",
       "    .dataframe tbody tr th:only-of-type {\n",
       "        vertical-align: middle;\n",
       "    }\n",
       "\n",
       "    .dataframe tbody tr th {\n",
       "        vertical-align: top;\n",
       "    }\n",
       "\n",
       "    .dataframe thead th {\n",
       "        text-align: right;\n",
       "    }\n",
       "</style>\n",
       "<table border=\"1\" class=\"dataframe\">\n",
       "  <thead>\n",
       "    <tr style=\"text-align: right;\">\n",
       "      <th></th>\n",
       "      <th>releasedate</th>\n",
       "      <th>stars</th>\n",
       "      <th>price</th>\n",
       "      <th>hours</th>\n",
       "      <th>minutes</th>\n",
       "      <th>total_minutes</th>\n",
       "    </tr>\n",
       "  </thead>\n",
       "  <tbody>\n",
       "    <tr>\n",
       "      <th>count</th>\n",
       "      <td>87489</td>\n",
       "      <td>15072.00000</td>\n",
       "      <td>78015.000000</td>\n",
       "      <td>87489.00000</td>\n",
       "      <td>87489.000000</td>\n",
       "      <td>87489.000000</td>\n",
       "    </tr>\n",
       "    <tr>\n",
       "      <th>mean</th>\n",
       "      <td>2018-06-22 01:35:29.780886528</td>\n",
       "      <td>4.45694</td>\n",
       "      <td>487.975478</td>\n",
       "      <td>6.41268</td>\n",
       "      <td>28.103910</td>\n",
       "      <td>412.864737</td>\n",
       "    </tr>\n",
       "    <tr>\n",
       "      <th>min</th>\n",
       "      <td>1998-12-27 00:00:00</td>\n",
       "      <td>1.00000</td>\n",
       "      <td>11.000000</td>\n",
       "      <td>0.00000</td>\n",
       "      <td>0.000000</td>\n",
       "      <td>0.000000</td>\n",
       "    </tr>\n",
       "    <tr>\n",
       "      <th>25%</th>\n",
       "      <td>2016-08-30 00:00:00</td>\n",
       "      <td>4.00000</td>\n",
       "      <td>251.000000</td>\n",
       "      <td>2.00000</td>\n",
       "      <td>13.000000</td>\n",
       "      <td>142.000000</td>\n",
       "    </tr>\n",
       "    <tr>\n",
       "      <th>50%</th>\n",
       "      <td>2020-01-30 00:00:00</td>\n",
       "      <td>4.50000</td>\n",
       "      <td>501.000000</td>\n",
       "      <td>6.00000</td>\n",
       "      <td>27.000000</td>\n",
       "      <td>386.000000</td>\n",
       "    </tr>\n",
       "    <tr>\n",
       "      <th>75%</th>\n",
       "      <td>2021-08-04 00:00:00</td>\n",
       "      <td>5.00000</td>\n",
       "      <td>691.000000</td>\n",
       "      <td>9.00000</td>\n",
       "      <td>43.000000</td>\n",
       "      <td>584.000000</td>\n",
       "    </tr>\n",
       "    <tr>\n",
       "      <th>max</th>\n",
       "      <td>2025-11-14 00:00:00</td>\n",
       "      <td>5.00000</td>\n",
       "      <td>999.000000</td>\n",
       "      <td>143.00000</td>\n",
       "      <td>59.000000</td>\n",
       "      <td>8595.000000</td>\n",
       "    </tr>\n",
       "    <tr>\n",
       "      <th>std</th>\n",
       "      <td>NaN</td>\n",
       "      <td>0.72394</td>\n",
       "      <td>255.136687</td>\n",
       "      <td>6.13522</td>\n",
       "      <td>17.368985</td>\n",
       "      <td>369.108660</td>\n",
       "    </tr>\n",
       "  </tbody>\n",
       "</table>\n",
       "</div>"
      ],
      "text/plain": [
       "                         releasedate        stars         price        hours  \\\n",
       "count                          87489  15072.00000  78015.000000  87489.00000   \n",
       "mean   2018-06-22 01:35:29.780886528      4.45694    487.975478      6.41268   \n",
       "min              1998-12-27 00:00:00      1.00000     11.000000      0.00000   \n",
       "25%              2016-08-30 00:00:00      4.00000    251.000000      2.00000   \n",
       "50%              2020-01-30 00:00:00      4.50000    501.000000      6.00000   \n",
       "75%              2021-08-04 00:00:00      5.00000    691.000000      9.00000   \n",
       "max              2025-11-14 00:00:00      5.00000    999.000000    143.00000   \n",
       "std                              NaN      0.72394    255.136687      6.13522   \n",
       "\n",
       "            minutes  total_minutes  \n",
       "count  87489.000000   87489.000000  \n",
       "mean      28.103910     412.864737  \n",
       "min        0.000000       0.000000  \n",
       "25%       13.000000     142.000000  \n",
       "50%       27.000000     386.000000  \n",
       "75%       43.000000     584.000000  \n",
       "max       59.000000    8595.000000  \n",
       "std       17.368985     369.108660  "
      ]
     },
     "execution_count": 465,
     "metadata": {},
     "output_type": "execute_result"
    }
   ],
   "source": [
    "df.describe()"
   ]
  },
  {
   "cell_type": "code",
   "execution_count": 466,
   "id": "e612ceed-7d7d-4720-a5db-af2577a81e7c",
   "metadata": {},
   "outputs": [
    {
     "data": {
      "text/plain": [
       "<Axes: >"
      ]
     },
     "execution_count": 466,
     "metadata": {},
     "output_type": "execute_result"
    },
    {
     "data": {
      "image/png": "[encoded data removed]",
      "text/plain": [
       "<Figure size 640x480 with 2 Axes>"
      ]
     },
     "metadata": {},
     "output_type": "display_data"
    }
   ],
   "source": [
    "sns.heatmap(df.select_dtypes(exclude='object').corr(),annot=True)"
   ]
  },
  {
   "cell_type": "code",
   "execution_count": 467,
   "id": "84d18e61-588d-419d-9377-145754db73b8",
   "metadata": {},
   "outputs": [
    {
     "name": "stdout",
     "output_type": "stream",
     "text": [
      "<class 'pandas.core.frame.DataFrame'>\n",
      "RangeIndex: 87489 entries, 0 to 87488\n",
      "Data columns (total 11 columns):\n",
      " #   Column         Non-Null Count  Dtype         \n",
      "---  ------         --------------  -----         \n",
      " 0   name           87489 non-null  object        \n",
      " 1   author         87489 non-null  object        \n",
      " 2   narrator       87489 non-null  object        \n",
      " 3   time           87489 non-null  object        \n",
      " 4   releasedate    87489 non-null  datetime64[ns]\n",
      " 5   language       87489 non-null  object        \n",
      " 6   stars          15072 non-null  float64       \n",
      " 7   price          78015 non-null  float64       \n",
      " 8   hours          87489 non-null  float64       \n",
      " 9   minutes        87489 non-null  float64       \n",
      " 10  total_minutes  87489 non-null  float64       \n",
      "dtypes: datetime64[ns](1), float64(5), object(5)\n",
      "memory usage: 7.3+ MB\n"
     ]
    }
   ],
   "source": [
    "df.info()"
   ]
  },
  {
   "cell_type": "code",
   "execution_count": null,
   "id": "b3ec983c-37eb-4dc6-8835-1b4035f46546",
   "metadata": {},
   "outputs": [],
   "source": []
  }
 ],
 "metadata": {
  "kernelspec": {
   "display_name": "Python 3 (ipykernel)",
   "language": "python",
   "name": "python3"
  },
  "language_info": {
   "codemirror_mode": {
    "name": "ipython",
    "version": 3
   },
   "file_extension": ".py",
   "mimetype": "text/x-python",
   "name": "python",
   "nbconvert_exporter": "python",
   "pygments_lexer": "ipython3",
   "version": "3.12.3"
  }
 },
 "nbformat": 4,
 "nbformat_minor": 5
}
